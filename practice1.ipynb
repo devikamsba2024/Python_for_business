{
  "nbformat": 4,
  "nbformat_minor": 0,
  "metadata": {
    "colab": {
      "provenance": [],
      "authorship_tag": "ABX9TyPqETevIt7PbVAsFXqXw7z4",
      "include_colab_link": true
    },
    "kernelspec": {
      "name": "python3",
      "display_name": "Python 3"
    },
    "language_info": {
      "name": "python"
    }
  },
  "cells": [
    {
      "cell_type": "markdown",
      "metadata": {
        "id": "view-in-github",
        "colab_type": "text"
      },
      "source": [
        "<a href=\"https://colab.research.google.com/github/devikamsba2024/Python_for_business/blob/main/practice1.ipynb\" target=\"_parent\"><img src=\"https://colab.research.google.com/assets/colab-badge.svg\" alt=\"Open In Colab\"/></a>"
      ]
    },
    {
      "cell_type": "markdown",
      "source": [
        "**Python first session**"
      ],
      "metadata": {
        "id": "n08FNYpRm-ef"
      }
    },
    {
      "cell_type": "code",
      "execution_count": null,
      "metadata": {
        "colab": {
          "base_uri": "https://localhost:8080/"
        },
        "id": "hEfBByGpkz3I",
        "outputId": "63234d8e-8e74-44e3-8e27-8079979bf52a"
      },
      "outputs": [
        {
          "output_type": "stream",
          "name": "stdout",
          "text": [
            "Hello USA\n"
          ]
        }
      ],
      "source": [
        "print(\"Hello USA\")"
      ]
    },
    {
      "cell_type": "markdown",
      "source": [
        "# Header"
      ],
      "metadata": {
        "id": "x3L72jJ9n35a"
      }
    }
  ]
}